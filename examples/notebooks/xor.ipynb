{
 "cells": [
  {
   "cell_type": "code",
   "execution_count": 10,
   "metadata": {},
   "outputs": [],
   "source": [
    "import networkx as nx\n",
    "import numpy as np\n",
    "import fugu\n",
    "from fugu import Scaffold, Brick, Spike_Input"
   ]
  },
  {
   "cell_type": "code",
   "execution_count": 17,
   "metadata": {},
   "outputs": [],
   "source": [
    "class XOR(Brick):\n",
    "    \"\"\"n bit XOR function. \"\"\"\n",
    "    \n",
    "    def __init__(self, name=None):\n",
    "        super().__init__()\n",
    "        self.is_built = False\n",
    "        self.dimensionality = {'D': 1}\n",
    "        self.name = name\n",
    "        self.supported_codings = ['binary-B', 'binary-L', 'Raster']\n",
    "        \n",
    "    def build(self, graph, dimensionality, control_nodes, input_lists, input_codings):\n",
    "        \"\"\"\n",
    "        Build XOR brick. \n",
    "\n",
    "        Arguments:\n",
    "            + graph - networkx graph to define connections of the computational graph\n",
    "            + dimensionality - dictionary to define the shapes and parameters of the brick\n",
    "            + control_nodes - dictionary of lists of auxillary networkx nodes.  Excpected keys: 'complete' - A list of neurons that fire when the brick is done\n",
    "            + input_lists - list of nodes that will contain input\n",
    "            + input_coding - list of input coding formats\n",
    "\n",
    "        Returns:\n",
    "            + graph of a computational elements and connections\n",
    "            + dictionary of output parameters (shape, coding, layers, depth, etc)\n",
    "            + dictionary of control nodes ('complete')\n",
    "            + list of output\n",
    "            + list of coding formats of output\n",
    "        \"\"\"\n",
    "        \n",
    "        if len(input_codings) != 1:\n",
    "            raise ValueError(\"XOR takes in 1 input on size n\")\n",
    "            \n",
    "        output_codings = [input_codings[0]]\n",
    "        \n",
    "        new_complete_node_name = self.name + '_complete'\n",
    "        \n",
    "        graph.add_node(new_complete_node_name, index=-1, threshold=0.0, decay=0.0, p=1.0, potential=0.0)\n",
    "        graph.add_edge(control_nodes[0]['complete'], new_complete_node_name, weight=1.0, delay=2)\n",
    "        complete_node = new_complete_node_name\n",
    "        \n",
    "        #xor_node_name = self.name + '_0'\n",
    "        \n",
    "        l = len(input_lists[0])\n",
    "        \n",
    "        #nodes\n",
    "        graph.add_node('h00', threshold=-1.0, decay=1.0, p=1.0, potential=0.0)\n",
    "        graph.add_node('h01', threshold=1.0, decay=1.0, p=1.0, potential=0.0)\n",
    "        graph.add_node('out', threshold=2.0, decay=1.0, p=1.0, potential=0.0)\n",
    "        #edges\n",
    "        graph.add_edge('input_lists[0][0]', 'h00', weight=-1.0, delay=1)\n",
    "        graph.add_edge(input_lists[0][0], 'h01', weight=1.0, delay=1)\n",
    "        \n",
    "        for i in range(1, l-1):\n",
    "            graph.add_node(f'h{i}0', threshold=-1.0, decay=1.0, p=1.0, potential=0.0)\n",
    "            graph.add_node(f'h{i}1', threshold=1.0, decay=1.0, p=1.0, potential=0.0)\n",
    "            graph.add_node(f'out{i}', threshold=2.0, decay=1.0, p=1.0, potential=0.0)\n",
    "            \n",
    "        \n",
    "        \n",
    "        #graph.add_edge(input_lists[0][0], 'h00', weight=-1.0, delay=1)\n",
    "        graph.add_edge('out', 'h00', weight=-1.0, delay=1)\n",
    "        #graph.add_edge(input_lists[0][0], 'h01', weight=1.0, delay=1)\n",
    "        graph.add_edge('out', 'h01', weight=1.0, delay=1)\n",
    "        graph.add_edge(input_lists[0][0], 'h00', weight=-1.0, delay=1)\n",
    "        graph.add_edge(input_lists[0][0], 'h01', weight=1.0, delay=1)\n",
    "        graph.add_edge('h00', 'out', weight=1, delay=1)\n",
    "        graph.add_edge('h01', 'out', weight=1, delay=1)\n",
    "        \n",
    "        self.is_built=True\n",
    "        \n",
    "        output_lists = [['out']]\n",
    "        \n",
    "        return (graph, self.dimensionality, [{'complete': complete_node}], output_lists, output_codings)\n",
    "    "
   ]
  },
  {
   "cell_type": "code",
   "execution_count": 22,
   "metadata": {},
   "outputs": [
    {
     "name": "stdout",
     "output_type": "stream",
     "text": [
      "Scaffold is built: True\n",
      "-------------------------------------------------------\n",
      "List of Bricks:\n",
      "\r\n",
      "\n",
      "Brick No.: 0\n",
      "Brick Name: Input0\n",
      "{'name': 'Input0', 'brick': <fugu.Spike_Input object at 0xa25f98828>, 'layer': 'input', 'input_nodes': [(-2, 0)], 'output_lists': [['Input0_0', 'Input0_1', 'Input0_2', 'Input0_3']], 'output_codings': ['Raster'], 'dimensionality': {'output_shape': [(4, 1)], 'output_coding': 'Raster', 'layer': <bound method Kernel.raw_input of <ipykernel.ipkernel.IPythonKernel object at 0x10f4db550>>, 'D': 0}, 'control_nodes': [{'complete': 'Input0_complete'}]}\n",
      "Brick is built: True\n",
      "\r\n",
      "\n",
      "Brick No.: 1\n",
      "Brick Name: xor\n",
      "{'name': 'xor', 'brick': <__main__.XOR object at 0xa25f98048>, 'input_nodes': [(0, 0)], 'layer': 'output', 'dimensionality': {'D': 1}, 'output_codings': ['Raster'], 'output_lists': [['out']], 'control_nodes': [{'complete': 'xor_complete'}]}\n",
      "Brick is built: True\n",
      "\r\n",
      "\n",
      "-------------------------------------------------------\n",
      "\r\n",
      "\n",
      "-------------------------------------------------------\n",
      "List of Brick Edges:\n",
      "\r\n",
      "\n",
      "Edge: (0, 1)\n",
      "{}\n",
      "-------------------------------------------------------\n",
      "\r\n",
      "\n",
      "List of Neurons:\n",
      "\r\n",
      "\n",
      "Neuron Number | Neuron Name | Neuron Properties\n",
      "0 | Input0_0 | {'index': (0,), 'threshold': 0.0, 'decay': 0.0, 'p': 1.0}\n",
      "Neuron Number | Neuron Name | Neuron Properties\n",
      "1 | Input0_1 | {'index': (1,), 'threshold': 0.0, 'decay': 0.0, 'p': 1.0}\n",
      "Neuron Number | Neuron Name | Neuron Properties\n",
      "2 | Input0_2 | {'index': (2,), 'threshold': 0.0, 'decay': 0.0, 'p': 1.0}\n",
      "Neuron Number | Neuron Name | Neuron Properties\n",
      "3 | Input0_3 | {'index': (3,), 'threshold': 0.0, 'decay': 0.0, 'p': 1.0}\n",
      "Neuron Number | Neuron Name | Neuron Properties\n",
      "4 | Input0_complete | {'index': -1, 'threshold': 0.0, 'decay': 0.0, 'p': 1.0, 'potential': 0.5}\n",
      "Neuron Number | Neuron Name | Neuron Properties\n",
      "5 | xor_complete | {'index': -1, 'threshold': 0.0, 'decay': 0.0, 'p': 1.0, 'potential': 0.0}\n",
      "Neuron Number | Neuron Name | Neuron Properties\n",
      "6 | h00 | {'threshold': -1.0, 'decay': 1.0, 'p': 1.0, 'potential': 0.0}\n",
      "Neuron Number | Neuron Name | Neuron Properties\n",
      "7 | h01 | {'threshold': 1.0, 'decay': 1.0, 'p': 1.0, 'potential': 0.0}\n",
      "Neuron Number | Neuron Name | Neuron Properties\n",
      "8 | out | {'threshold': 2.0, 'decay': 1.0, 'p': 1.0, 'potential': 0.0, 'record': ['spikes']}\n",
      "\r\n",
      "\n",
      "-------------------------------------------------------\n",
      "List of Synapses:\n",
      "\r\n",
      "\n",
      "Synapse Between | Synapse Properties\n",
      "('Input0_0', 'h00') | {'weight': -1.0, 'delay': 1}\n",
      "Synapse Between | Synapse Properties\n",
      "('Input0_0', 'h01') | {'weight': 1.0, 'delay': 1}\n",
      "Synapse Between | Synapse Properties\n",
      "('Input0_complete', 'xor_complete') | {'weight': 1.0, 'delay': 2}\n",
      "Synapse Between | Synapse Properties\n",
      "('h00', 'out') | {'weight': 1, 'delay': 1}\n",
      "Synapse Between | Synapse Properties\n",
      "('h01', 'out') | {'weight': 1, 'delay': 1}\n",
      "Synapse Between | Synapse Properties\n",
      "('out', 'h00') | {'weight': -1.0, 'delay': 0}\n",
      "Synapse Between | Synapse Properties\n",
      "('out', 'h01') | {'weight': 1.0, 'delay': 0}\n"
     ]
    }
   ],
   "source": [
    "scaffold.summary()"
   ]
  },
  {
   "cell_type": "code",
   "execution_count": 24,
   "metadata": {},
   "outputs": [
    {
     "data": {
      "image/png": "[encoded data removed]",
      "text/plain": [
       "<Figure size 432x288 with 1 Axes>"
      ]
     },
     "metadata": {},
     "output_type": "display_data"
    }
   ],
   "source": [
    "nx.draw(scaffold.graph)"
   ]
  },
  {
   "cell_type": "code",
   "execution_count": 21,
   "metadata": {},
   "outputs": [
    {
     "name": "stdout",
     "output_type": "stream",
     "text": [
      "{0: [0, 2, 3, 4, 6], 1: [], 2: [5, 6], 3: [6], 4: [6], 5: [6], 6: [6], 7: [6], 8: [6]}\n"
     ]
    }
   ],
   "source": [
    "scaffold = Scaffold()\n",
    "scaffold.add_brick(Spike_Input(np.array([1,0,1,1]), coding='Raster', name='Input0'), 'input')\n",
    "scaffold.add_brick(XOR(name='xor'), [0], output=True)\n",
    "scaffold.lay_bricks()\n",
    "result = scaffold.evaluate(backend='ds', max_runtime =9, record_all=True)\n",
    "print(result)"
   ]
  },
  {
   "cell_type": "code",
   "execution_count": null,
   "metadata": {},
   "outputs": [],
   "source": []
  }
 ],
 "metadata": {
  "kernelspec": {
   "display_name": "Python 3",
   "language": "python",
   "name": "python3"
  },
  "language_info": {
   "codemirror_mode": {
    "name": "ipython",
    "version": 3
   },
   "file_extension": ".py",
   "mimetype": "text/x-python",
   "name": "python",
   "nbconvert_exporter": "python",
   "pygments_lexer": "ipython3",
   "version": "3.7.3"
  }
 },
 "nbformat": 4,
 "nbformat_minor": 2
}
