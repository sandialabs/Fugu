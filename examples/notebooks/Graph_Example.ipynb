{
 "cells": [
  {
   "cell_type": "code",
   "execution_count": 1,
   "metadata": {},
   "outputs": [],
   "source": [
    "from __future__ import print_function  #We'll talk about these imports later.\n",
    "import networkx as nx\n",
    "import numpy as np\n",
    "import scipy as sp\n",
    "import pickle\n",
    "from scipy import ndimage\n",
    "import fugu\n",
    "from fugu import Scaffold, Brick\n",
    "from fugu.bricks import Vector_Input, Threshold, Dot"
   ]
  },
  {
   "cell_type": "markdown",
   "metadata": {},
   "source": [
    "# How to find a good taco using Fugu\n",
    "\n",
    "Fugu is/will be useful for all sorts of data processing on heterogenous platforms, from large HPC systems to embedded and edge devices.  Here, we run through a classic issue: Finding a tasty taco.\n",
    "\n",
    "Sarah is sitting at home hungry and wants to go to her favorite taco shop.  Unfortunately, they've recently moved locations and she doesn't know where their new spot is.  \n",
    "\n",
    "Luckily, Sarah works for a national lab and has access to newly updated satellite imagery.  Here's the image she has:\n",
    "\n",
    "![](OverheadMap.png)"
   ]
  },
  {
   "cell_type": "markdown",
   "metadata": {},
   "source": [
    "Now, Sarah could carefully scan the image herself looking for the taco shop.  However, that takes a long time and the image is pretty big!\n",
    "\n",
    "So, instead, we'll use a simple template-matching classifier and fugu. Here's Sarah's reference image (coded into a 0,1-vector of spikes)."
   ]
  },
  {
   "cell_type": "code",
   "execution_count": 2,
   "metadata": {},
   "outputs": [],
   "source": [
    "taco_img = [[0,0,0,0,0,0,0,0,0,0,0,0,0,0,0,0,0,0,0,0,0,0,0,0,0,0,0,0,0,0,0,0,0,0,0,0,0,0,0,0,0,0,0,0,0,0,0,0,0,0,],\n",
    "[0,0,0,0,0,0,0,0,0,0,0,0,0,0,0,0,0,0,0,0,0,0,0,0,0,0,0,0,0,0,0,0,0,0,0,0,0,0,0,0,0,0,0,0,0,0,0,0,0,0,],\n",
    "[0,0,0,0,0,0,0,0,0,0,0,0,0,0,0,0,0,0,0,0,0,0,0,0,0,0,0,0,0,0,0,0,0,0,0,0,0,0,0,0,0,0,0,0,0,0,0,0,0,0,],\n",
    "[0,0,0,0,0,0,0,0,0,0,0,0,0,0,0,0,0,0,0,0,0,0,0,0,0,0,0,0,0,0,0,0,0,0,0,0,0,0,0,0,0,0,0,0,0,0,0,0,0,0,],\n",
    "[0,0,0,0,0,0,0,0,0,0,0,0,0,0,0,0,0,0,0,0,0,0,0,0,0,0,0,0,0,0,0,0,0,0,0,0,0,0,0,0,0,0,0,0,0,0,0,0,0,0,],\n",
    "[0,0,0,0,0,0,0,0,0,0,0,0,0,0,0,0,0,0,0,0,0,0,0,0,0,0,0,0,0,0,0,0,0,0,0,0,0,0,0,0,0,0,0,0,0,0,0,0,0,0,],\n",
    "[0,0,0,0,0,0,0,0,0,0,0,0,0,0,0,0,0,0,0,0,0,0,0,1,1,1,1,1,0,0,0,0,0,0,0,0,0,0,0,0,0,0,0,0,0,0,0,0,0,0,],\n",
    "[0,0,0,0,0,0,0,0,0,0,0,0,0,0,0,0,0,0,0,0,0,0,1,1,1,1,1,1,1,0,0,0,1,1,1,0,0,0,0,0,0,0,0,0,0,0,0,0,0,0,],\n",
    "[0,0,0,0,0,0,0,0,0,0,0,0,0,0,0,0,0,0,0,0,0,1,1,1,1,1,1,1,1,1,1,1,1,1,1,1,0,0,0,0,0,0,0,0,0,0,0,0,0,0,],\n",
    "[0,0,0,0,0,0,0,0,0,0,0,0,0,0,0,0,0,0,0,0,0,1,1,1,1,1,1,1,1,1,1,1,1,1,1,1,1,0,0,0,0,0,0,0,0,0,0,0,0,0,],\n",
    "[0,0,0,0,0,0,0,0,0,0,0,0,0,0,0,0,0,1,1,1,1,1,1,1,1,0,1,1,1,1,1,1,1,1,1,1,1,1,0,1,1,0,0,0,0,0,0,0,0,0,],\n",
    "[0,0,0,0,0,0,0,0,0,0,0,0,0,0,0,0,1,1,1,1,1,1,1,1,0,1,1,1,1,1,1,1,0,0,1,1,1,1,1,1,1,1,0,0,0,0,0,0,0,0,],\n",
    "[0,0,0,0,0,0,0,0,0,0,0,0,0,0,0,0,1,1,1,1,1,1,1,1,1,1,1,1,0,0,0,1,1,1,1,1,0,0,0,1,1,1,1,0,0,0,0,0,0,0,],\n",
    "[0,0,0,0,0,0,0,0,0,0,0,0,0,0,0,0,1,1,1,1,1,1,1,1,1,1,0,0,1,1,1,1,1,1,1,1,1,1,1,0,0,1,1,0,0,0,0,0,0,0,],\n",
    "[0,0,0,0,0,0,0,0,0,0,0,0,0,0,0,0,1,1,1,1,1,1,1,1,1,0,1,1,1,1,1,1,1,1,1,1,1,1,1,1,1,0,1,0,0,0,0,0,0,0,],\n",
    "[0,0,0,0,0,0,0,0,0,0,0,0,0,0,0,1,1,1,1,1,1,1,1,1,0,1,1,1,1,1,1,1,1,1,1,1,1,1,1,1,1,1,0,0,0,0,0,0,0,0,],\n",
    "[0,0,0,0,0,0,0,0,0,0,0,0,0,1,1,1,1,0,0,0,1,1,1,0,1,1,1,1,1,1,1,1,1,1,1,1,1,1,1,1,1,1,1,0,0,0,0,0,0,0,],\n",
    "[0,0,0,0,0,0,0,0,0,0,0,0,0,1,1,1,1,1,1,1,1,1,0,1,1,1,1,1,1,1,1,1,1,1,1,1,1,1,1,1,1,1,1,1,0,0,0,0,0,0,],\n",
    "[0,0,0,0,0,0,0,0,0,0,1,0,1,1,1,1,1,1,1,1,1,0,1,1,1,1,1,1,1,1,1,1,1,1,1,1,1,1,1,1,1,1,1,1,1,0,0,0,0,0,],\n",
    "[0,0,0,0,0,0,0,0,0,1,1,0,0,1,1,1,1,1,1,1,0,1,1,1,1,1,1,1,1,1,1,1,1,1,1,1,1,1,1,1,1,1,1,1,1,0,0,0,0,0,],\n",
    "[0,0,0,0,0,0,0,0,1,1,1,0,0,1,1,1,1,1,1,1,0,1,1,1,1,1,1,1,1,1,1,1,1,1,1,1,1,1,1,1,1,1,1,1,1,1,0,0,0,0,],\n",
    "[0,0,0,0,0,0,0,0,1,1,0,0,0,1,1,1,1,1,1,0,1,1,1,1,1,1,1,1,1,1,1,1,1,1,1,1,1,1,1,1,1,1,1,1,1,1,0,0,0,0,],\n",
    "[0,0,0,0,0,0,0,1,1,0,0,1,1,1,1,1,1,1,0,1,1,1,1,1,1,1,1,1,1,1,1,1,1,1,1,1,1,1,1,1,1,1,1,1,1,1,1,0,0,0,],\n",
    "[0,0,0,0,0,0,0,1,0,0,1,1,1,1,1,1,1,1,0,1,1,1,1,1,1,1,1,1,1,1,1,1,1,1,1,1,1,1,1,1,1,1,1,1,1,1,1,0,0,0,],\n",
    "[0,0,0,0,0,0,1,1,0,1,1,1,1,1,1,1,1,0,1,1,1,1,1,1,1,1,1,1,1,1,1,1,1,1,1,1,1,1,1,1,1,1,1,1,1,1,1,0,0,0,],\n",
    "[0,0,0,0,0,0,1,1,0,1,1,1,1,1,1,1,1,0,1,1,1,1,1,1,1,1,1,1,1,1,1,1,1,1,1,1,1,1,1,1,1,1,1,1,1,1,1,0,0,0,],\n",
    "[0,0,0,0,0,1,1,1,0,1,1,1,0,0,1,1,0,1,1,1,1,1,1,1,1,1,1,1,1,1,1,1,1,1,1,1,1,1,1,1,1,1,1,1,1,1,1,1,0,0,],\n",
    "[0,0,0,0,0,1,1,0,0,0,1,1,1,1,1,1,0,1,1,1,1,1,1,1,1,1,1,1,1,1,1,1,1,1,1,1,1,1,1,1,1,1,1,1,1,1,1,1,0,0,],\n",
    "[0,0,0,0,0,1,1,0,0,0,1,1,1,1,1,0,1,1,1,1,1,1,1,1,1,1,1,1,1,1,1,1,1,1,1,1,1,1,1,1,1,1,1,1,1,1,1,1,0,0,],\n",
    "[0,0,0,0,1,1,1,0,0,1,1,1,1,1,1,0,1,1,1,1,1,1,1,1,1,1,1,1,1,1,1,1,1,1,1,1,1,1,1,1,1,1,1,1,1,1,1,1,0,0,],\n",
    "[0,0,0,0,1,1,1,0,0,1,1,1,1,1,0,1,1,1,1,1,1,1,1,1,1,1,1,1,1,1,1,1,1,1,1,1,1,1,1,1,1,1,1,1,1,1,0,0,0,0,],\n",
    "[0,0,0,0,1,1,0,0,1,1,1,1,1,1,0,1,1,1,1,1,1,1,1,1,1,1,1,1,1,1,1,1,1,1,1,1,1,1,1,1,1,1,1,0,0,0,0,0,0,0,],\n",
    "[0,0,0,0,1,1,0,0,1,1,1,1,1,1,1,1,1,1,1,1,1,1,1,1,1,1,1,1,1,1,1,1,1,1,1,1,1,1,1,1,1,0,0,0,0,0,0,0,0,0,],\n",
    "[0,0,0,0,1,1,0,0,1,1,1,1,1,0,1,1,1,1,1,1,1,1,1,1,1,1,1,1,1,1,1,1,1,1,1,1,1,1,0,0,0,0,0,0,0,0,0,0,0,0,],\n",
    "[0,0,0,0,1,1,0,0,0,1,1,1,1,0,1,1,1,1,1,1,1,1,1,1,1,1,1,1,1,1,1,1,1,1,1,1,0,0,0,0,0,0,0,0,0,0,0,0,0,0,],\n",
    "[0,0,0,0,1,1,0,0,0,1,1,1,0,1,1,1,1,1,1,1,1,1,1,1,1,1,1,1,1,1,1,1,1,0,0,0,0,0,0,0,0,0,0,0,0,0,0,0,0,0,],\n",
    "[0,0,0,0,1,1,0,0,1,1,1,1,0,1,1,1,1,1,1,1,1,1,1,1,1,1,1,1,1,1,1,0,0,0,0,0,0,0,0,0,0,0,0,0,0,0,0,0,0,0,],\n",
    "[0,0,0,0,1,1,0,0,1,1,1,1,1,1,1,1,1,1,1,1,1,1,1,1,1,1,1,1,1,0,0,0,0,0,0,0,0,0,0,0,0,0,0,0,0,0,0,0,0,0,],\n",
    "[0,0,0,0,1,1,0,0,1,1,1,0,1,1,1,1,1,1,1,1,1,1,1,1,1,1,0,0,0,0,0,0,0,0,0,0,0,0,0,0,0,0,0,0,0,0,0,0,0,0,],\n",
    "[0,0,0,0,1,1,0,0,0,1,1,0,1,1,1,1,1,1,1,1,1,1,1,1,0,0,0,0,0,0,0,0,0,0,0,0,0,0,0,0,0,0,0,0,0,0,0,0,0,0,],\n",
    "[0,0,0,0,1,1,1,0,0,0,0,1,1,1,1,1,1,1,1,1,1,0,0,0,0,0,0,0,0,0,0,0,0,0,0,0,0,0,0,0,0,0,0,0,0,0,0,0,0,0,],\n",
    "[0,0,0,0,0,1,1,0,0,0,1,1,1,1,1,1,1,1,1,0,0,0,0,0,0,0,0,0,0,0,0,0,0,0,0,0,0,0,0,0,0,0,0,0,0,0,0,0,0,0,],\n",
    "[0,0,0,0,0,1,1,1,1,1,1,1,1,1,1,1,0,0,0,0,0,0,0,0,0,0,0,0,0,0,0,0,0,0,0,0,0,0,0,0,0,0,0,0,0,0,0,0,0,0,],\n",
    "[0,0,0,0,0,0,1,1,1,1,1,1,1,1,0,0,0,0,0,0,0,0,0,0,0,0,0,0,0,0,0,0,0,0,0,0,0,0,0,0,0,0,0,0,0,0,0,0,0,0,],\n",
    "[0,0,0,0,0,0,0,0,1,1,1,0,0,0,0,0,0,0,0,0,0,0,0,0,0,0,0,0,0,0,0,0,0,0,0,0,0,0,0,0,0,0,0,0,0,0,0,0,0,0,],\n",
    "[0,0,0,0,0,0,0,0,0,0,0,0,0,0,0,0,0,0,0,0,0,0,0,0,0,0,0,0,0,0,0,0,0,0,0,0,0,0,0,0,0,0,0,0,0,0,0,0,0,0,],\n",
    "[0,0,0,0,0,0,0,0,0,0,0,0,0,0,0,0,0,0,0,0,0,0,0,0,0,0,0,0,0,0,0,0,0,0,0,0,0,0,0,0,0,0,0,0,0,0,0,0,0,0,],\n",
    "[0,0,0,0,0,0,0,0,0,0,0,0,0,0,0,0,0,0,0,0,0,0,0,0,0,0,0,0,0,0,0,0,0,0,0,0,0,0,0,0,0,0,0,0,0,0,0,0,0,0,],\n",
    "[0,0,0,0,0,0,0,0,0,0,0,0,0,0,0,0,0,0,0,0,0,0,0,0,0,0,0,0,0,0,0,0,0,0,0,0,0,0,0,0,0,0,0,0,0,0,0,0,0,0,],\n",
    "[0,0,0,0,0,0,0,0,0,0,0,0,0,0,0,0,0,0,0,0,0,0,0,0,0,0,0,0,0,0,0,0,0,0,0,0,0,0,0,0,0,0,0,0,0,0,0,0,0,0,]]\n",
    "taco_img = np.array(taco_img).flatten().astype('float')"
   ]
  },
  {
   "cell_type": "markdown",
   "metadata": {},
   "source": [
    "The images pulled from the satellite are conveniently stored in a dictionary in a numpy file.  We can load them easily:"
   ]
  },
  {
   "cell_type": "code",
   "execution_count": 3,
   "metadata": {},
   "outputs": [],
   "source": [
    "collected_images = np.load('imgs.npy', allow_pickle=True)[()]  #The strange slicing [()] is because we've stored a dictionary within a numpy array. Convenient, but weird."
   ]
  },
  {
   "cell_type": "markdown",
   "metadata": {},
   "source": [
    "We're almost ready to go.  Let's look at those imports we skipped before...\n",
    "\n",
    "```python\n",
    "from __future__ import print_function\n",
    "import networkx as nx\n",
    "import numpy as np\n",
    "import fugu\n",
    "from fugu import Scaffold, Spike_Input, Threshold, Dot\n",
    "```\n",
    "\n",
    "`print_function` allows us to print in Python 2 using Python 3 style function calls.\n",
    "\n",
    "NetworkX actually doesn't need to be imported here, but you'll quickly run into issues if you start playing around the with objects without it.\n",
    "\n",
    "Numpy is a standard import since that provides our array-handling.\n",
    "\n",
    "Here's a quick run-down of the fugu objects we use here:\n",
    "- `Scaffold`:  The scaffold object is a container/graph object that organizes and holds computational nodes called 'bricks'.  Various types of bricks can be combined to construct a more sophisticated algorithm.  `Scaffold` is the main object for end-users.  The general workflow is something like this:\n",
    "    1. Define a `Scaffold` object\n",
    "    2. Attach bricks to the `Scaffold`, linking them together\n",
    "    3. 'Build' the computational graph by calling `Scaffold.lay_bricks`\n",
    "    4. Call `Scaffold.evaluate` and perform any post-processing to your answer.\n",
    "A few todo-type caveats:  \n",
    "    1. The `Scaffold` object should, itself, be a `Brick`.  This is critical but unfortunately currently missing.\n",
    "    2. Inputs that take both pre-computed values and input spikes may not lay correctly.\n",
    "    3. The code is missing a large portion of expected 'checks' so right now it is on the user to determine if they are doing something allowed or disallowed.\n",
    "\n",
    "- `Spike_Input`: A `Brick` that provides spike inputs in the form of vectors.  For a single input, a numpy array (as you see below) is sufficient.  For inputs at various timesteps, use the flag `time_dimension`.  For generic vector input, use `coding=Raster`, though the user can specify an output coding as desired.\n",
    "- `Dot`: A `Brick` that provides a dot product of two vectors.  While this could be updated in the future, right now the only implementation is uses weights, and the analog value is the output of the brick. This is referred to as `current` output coding (to signify threshold operation).  You can then link this with other bricks that accept `current` to produce spikes.  Understand that we cannot do very much with a signal when it is in `current` coding.  This responsiblilty is left to the programmer.  Easy things to do would be, for example, add or multiply (we'd be able to write these bricks).\n",
    "- `Threshold`:  Another `Brick`.  Provides a basic thresholding.  Useful, for example, to perform a threshold which converts `current` coding into spikes. \n",
    "\n",
    "\n",
    "We begin to build our scaffold:"
   ]
  },
  {
   "cell_type": "code",
   "execution_count": 4,
   "metadata": {},
   "outputs": [],
   "source": [
    "scaffold = Scaffold()\n",
    "scaffold.add_brick(Vector_Input(np.array(taco_img), coding='Raster', name='Reference_Image'), 'input')"
   ]
  },
  {
   "cell_type": "markdown",
   "metadata": {},
   "source": [
    "When we add a `Brick` to a `Scaffold`, by default, it adds it to the last node on the graph (generally, the last brick added).  Most bricks provide one ouput channel; separate output channels allow for a brick to send separate output signals to separate bricks. Below, we connect a different `Dot` brick to each of these pair (Reference_Image <> Test_Image); all on channel 0 (the first channel).  By default, a brick connects to the first output channel of a node if none is specified.  We also name them for fun and clarity.  We can check our progress using `scaffold.summary()`, but we see that not much is going on yet."
   ]
  },
  {
   "cell_type": "code",
   "execution_count": 5,
   "metadata": {},
   "outputs": [
    {
     "name": "stdout",
     "output_type": "stream",
     "text": [
      "Scaffold is built: False\n",
      "-------------------------------------------------------\n",
      "List of Bricks:\n",
      "\n",
      "\n",
      "Brick No.: 0\n",
      "Brick Tag: Reference_Image-0\n",
      "Brick Name: Reference_Image\n",
      "{'tag': 'Reference_Image-0', 'name': 'Reference_Image', 'brick': <fugu.bricks.input_bricks.Vector_Input object at 0x7fa70a8d2ac0>, 'layer': 'input', 'input_nodes': [(-2, 0)]}\n",
      "Brick is built: False\n",
      "\n",
      "\n",
      "-------------------------------------------------------\n",
      "\n",
      "\n",
      "-------------------------------------------------------\n",
      "List of Brick Edges:\n",
      "\n",
      "\n"
     ]
    }
   ],
   "source": [
    "scaffold.summary()"
   ]
  },
  {
   "cell_type": "markdown",
   "metadata": {},
   "source": [
    "Let's connect some bricks!  (In the future, we can suppport more complicated classifiers.  Here, we're doing a simple template match.)"
   ]
  },
  {
   "cell_type": "code",
   "execution_count": 6,
   "metadata": {},
   "outputs": [
    {
     "name": "stdout",
     "output_type": "stream",
     "text": [
      "Scaffold is built: False\n",
      "-------------------------------------------------------\n",
      "List of Bricks:\n",
      "\n",
      "\n",
      "Brick No.: 0\n",
      "Brick Tag: Reference_Image-0\n",
      "Brick Name: Reference_Image\n",
      "{'tag': 'Reference_Image-0', 'name': 'Reference_Image', 'brick': <fugu.bricks.input_bricks.Vector_Input object at 0x7fa70a8d2ac0>, 'layer': 'input', 'input_nodes': [(-2, 0)]}\n",
      "Brick is built: False\n",
      "\n",
      "\n",
      "Brick No.: 1\n",
      "Brick Tag: Dot_with_0-1\n",
      "Brick Name: Dot_with_0\n",
      "{'tag': 'Dot_with_0-1', 'name': 'Dot_with_0', 'brick': <fugu.bricks.utility_bricks.Dot object at 0x7fa70c7afd30>, 'input_nodes': [(0, 0)]}\n",
      "Brick is built: False\n",
      "\n",
      "\n",
      "Brick No.: 2\n",
      "Brick Tag: Does_Match_0-2\n",
      "Brick Name: Does_Match_0\n",
      "{'tag': 'Does_Match_0-2', 'name': 'Does_Match_0', 'brick': <fugu.bricks.stochastic_bricks.Threshold object at 0x7fa70baccac0>, 'input_nodes': [], 'layer': 'output'}\n",
      "Brick is built: False\n",
      "\n",
      "\n",
      "Brick No.: 3\n",
      "Brick Tag: Dot_with_1-3\n",
      "Brick Name: Dot_with_1\n",
      "{'tag': 'Dot_with_1-3', 'name': 'Dot_with_1', 'brick': <fugu.bricks.utility_bricks.Dot object at 0x7fa70bacca30>, 'input_nodes': [(0, 0)]}\n",
      "Brick is built: False\n",
      "\n",
      "\n",
      "Brick No.: 4\n",
      "Brick Tag: Does_Match_1-4\n",
      "Brick Name: Does_Match_1\n",
      "{'tag': 'Does_Match_1-4', 'name': 'Does_Match_1', 'brick': <fugu.bricks.stochastic_bricks.Threshold object at 0x7fa70bacca60>, 'input_nodes': [], 'layer': 'output'}\n",
      "Brick is built: False\n",
      "\n",
      "\n",
      "Brick No.: 5\n",
      "Brick Tag: Dot_with_2-5\n",
      "Brick Name: Dot_with_2\n",
      "{'tag': 'Dot_with_2-5', 'name': 'Dot_with_2', 'brick': <fugu.bricks.utility_bricks.Dot object at 0x7fa70bacca90>, 'input_nodes': [(0, 0)]}\n",
      "Brick is built: False\n",
      "\n",
      "\n",
      "Brick No.: 6\n",
      "Brick Tag: Does_Match_2-6\n",
      "Brick Name: Does_Match_2\n",
      "{'tag': 'Does_Match_2-6', 'name': 'Does_Match_2', 'brick': <fugu.bricks.stochastic_bricks.Threshold object at 0x7fa70bc04790>, 'input_nodes': [], 'layer': 'output'}\n",
      "Brick is built: False\n",
      "\n",
      "\n",
      "Brick No.: 7\n",
      "Brick Tag: Dot_with_3-7\n",
      "Brick Name: Dot_with_3\n",
      "{'tag': 'Dot_with_3-7', 'name': 'Dot_with_3', 'brick': <fugu.bricks.utility_bricks.Dot object at 0x7fa70c7d6a00>, 'input_nodes': [(0, 0)]}\n",
      "Brick is built: False\n",
      "\n",
      "\n",
      "Brick No.: 8\n",
      "Brick Tag: Does_Match_3-8\n",
      "Brick Name: Does_Match_3\n",
      "{'tag': 'Does_Match_3-8', 'name': 'Does_Match_3', 'brick': <fugu.bricks.stochastic_bricks.Threshold object at 0x7fa70c7d6790>, 'input_nodes': [], 'layer': 'output'}\n",
      "Brick is built: False\n",
      "\n",
      "\n",
      "Brick No.: 9\n",
      "Brick Tag: Dot_with_4-9\n",
      "Brick Name: Dot_with_4\n",
      "{'tag': 'Dot_with_4-9', 'name': 'Dot_with_4', 'brick': <fugu.bricks.utility_bricks.Dot object at 0x7fa70c7d6730>, 'input_nodes': [(0, 0)]}\n",
      "Brick is built: False\n",
      "\n",
      "\n",
      "Brick No.: 10\n",
      "Brick Tag: Does_Match_4-10\n",
      "Brick Name: Does_Match_4\n",
      "{'tag': 'Does_Match_4-10', 'name': 'Does_Match_4', 'brick': <fugu.bricks.stochastic_bricks.Threshold object at 0x7fa70c7d6700>, 'input_nodes': [], 'layer': 'output'}\n",
      "Brick is built: False\n",
      "\n",
      "\n",
      "Brick No.: 11\n",
      "Brick Tag: Dot_with_5-11\n",
      "Brick Name: Dot_with_5\n",
      "{'tag': 'Dot_with_5-11', 'name': 'Dot_with_5', 'brick': <fugu.bricks.utility_bricks.Dot object at 0x7fa70c7d6b80>, 'input_nodes': [(0, 0)]}\n",
      "Brick is built: False\n",
      "\n",
      "\n",
      "Brick No.: 12\n",
      "Brick Tag: Does_Match_5-12\n",
      "Brick Name: Does_Match_5\n",
      "{'tag': 'Does_Match_5-12', 'name': 'Does_Match_5', 'brick': <fugu.bricks.stochastic_bricks.Threshold object at 0x7fa70c7d6af0>, 'input_nodes': [], 'layer': 'output'}\n",
      "Brick is built: False\n",
      "\n",
      "\n",
      "-------------------------------------------------------\n",
      "\n",
      "\n",
      "-------------------------------------------------------\n",
      "List of Brick Edges:\n",
      "\n",
      "\n",
      "Edge: (0, 1)\n",
      "{}\n",
      "Edge: (0, 3)\n",
      "{}\n",
      "Edge: (0, 5)\n",
      "{}\n",
      "Edge: (0, 7)\n",
      "{}\n",
      "Edge: (0, 9)\n",
      "{}\n",
      "Edge: (0, 11)\n",
      "{}\n"
     ]
    }
   ],
   "source": [
    "threshold_value = 1000  #Number of positive pixels that have to agree for us to consider it a 'match'\n",
    "for image_key in collected_images:\n",
    "    test_image = collected_images[image_key].flatten() #We squeeze the 2-d image into a 1-d vector\n",
    "    scaffold.add_brick(Dot(test_image, name='Dot_with_' + str(image_key)), (0,0))  #Connects this Dot brick to node 0, channel 0 (The input)\n",
    "    scaffold.add_brick(Threshold(threshold_value, name='Does_Match_' + str(image_key)), output=True)  #We're using the fact that this'll connect to the last-added brick\n",
    "scaffold.summary()"
   ]
  },
  {
   "cell_type": "code",
   "execution_count": 7,
   "metadata": {},
   "outputs": [
    {
     "ename": "ImportError",
     "evalue": "Matplotlib required for draw()",
     "output_type": "error",
     "traceback": [
      "\u001b[0;31m---------------------------------------------------------------------------\u001b[0m",
      "\u001b[0;31mModuleNotFoundError\u001b[0m                       Traceback (most recent call last)",
      "File \u001b[0;32m~/miniconda3/envs/fugu/lib/python3.9/site-packages/networkx/drawing/nx_pylab.py:104\u001b[0m, in \u001b[0;36mdraw\u001b[0;34m(G, pos, ax, **kwds)\u001b[0m\n\u001b[1;32m    103\u001b[0m \u001b[38;5;28;01mtry\u001b[39;00m:\n\u001b[0;32m--> 104\u001b[0m     \u001b[38;5;28;01mimport\u001b[39;00m \u001b[38;5;21;01mmatplotlib\u001b[39;00m\u001b[38;5;21;01m.\u001b[39;00m\u001b[38;5;21;01mpyplot\u001b[39;00m \u001b[38;5;28;01mas\u001b[39;00m \u001b[38;5;21;01mplt\u001b[39;00m\n\u001b[1;32m    105\u001b[0m \u001b[38;5;28;01mexcept\u001b[39;00m \u001b[38;5;167;01mImportError\u001b[39;00m:\n",
      "\u001b[0;31mModuleNotFoundError\u001b[0m: No module named 'matplotlib'",
      "\nDuring handling of the above exception, another exception occurred:\n",
      "\u001b[0;31mImportError\u001b[0m                               Traceback (most recent call last)",
      "Input \u001b[0;32mIn [7]\u001b[0m, in \u001b[0;36m<cell line: 2>\u001b[0;34m()\u001b[0m\n\u001b[1;32m      1\u001b[0m \u001b[38;5;66;03m#If you have matplotlib installed, you can plot the circuit using NetworkX's built in tools, e.g.:\u001b[39;00m\n\u001b[0;32m----> 2\u001b[0m \u001b[43mnx\u001b[49m\u001b[38;5;241;43m.\u001b[39;49m\u001b[43mdraw_kamada_kawai\u001b[49m\u001b[43m(\u001b[49m\u001b[43mscaffold\u001b[49m\u001b[38;5;241;43m.\u001b[39;49m\u001b[43mcircuit\u001b[49m\u001b[43m)\u001b[49m\n",
      "File \u001b[0;32m~/miniconda3/envs/fugu/lib/python3.9/site-packages/networkx/drawing/nx_pylab.py:1011\u001b[0m, in \u001b[0;36mdraw_kamada_kawai\u001b[0;34m(G, **kwargs)\u001b[0m\n\u001b[1;32m    998\u001b[0m \u001b[38;5;28;01mdef\u001b[39;00m \u001b[38;5;21mdraw_kamada_kawai\u001b[39m(G, \u001b[38;5;241m*\u001b[39m\u001b[38;5;241m*\u001b[39mkwargs):\n\u001b[1;32m    999\u001b[0m     \u001b[38;5;124;03m\"\"\"Draw the graph G with a Kamada-Kawai force-directed layout.\u001b[39;00m\n\u001b[1;32m   1000\u001b[0m \n\u001b[1;32m   1001\u001b[0m \u001b[38;5;124;03m    Parameters\u001b[39;00m\n\u001b[0;32m   (...)\u001b[0m\n\u001b[1;32m   1009\u001b[0m \u001b[38;5;124;03m       function.\u001b[39;00m\n\u001b[1;32m   1010\u001b[0m \u001b[38;5;124;03m    \"\"\"\u001b[39;00m\n\u001b[0;32m-> 1011\u001b[0m     \u001b[43mdraw\u001b[49m\u001b[43m(\u001b[49m\u001b[43mG\u001b[49m\u001b[43m,\u001b[49m\u001b[43m \u001b[49m\u001b[43mkamada_kawai_layout\u001b[49m\u001b[43m(\u001b[49m\u001b[43mG\u001b[49m\u001b[43m)\u001b[49m\u001b[43m,\u001b[49m\u001b[43m \u001b[49m\u001b[38;5;241;43m*\u001b[39;49m\u001b[38;5;241;43m*\u001b[39;49m\u001b[43mkwargs\u001b[49m\u001b[43m)\u001b[49m\n",
      "File \u001b[0;32m~/miniconda3/envs/fugu/lib/python3.9/site-packages/networkx/drawing/nx_pylab.py:106\u001b[0m, in \u001b[0;36mdraw\u001b[0;34m(G, pos, ax, **kwds)\u001b[0m\n\u001b[1;32m    104\u001b[0m     \u001b[38;5;28;01mimport\u001b[39;00m \u001b[38;5;21;01mmatplotlib\u001b[39;00m\u001b[38;5;21;01m.\u001b[39;00m\u001b[38;5;21;01mpyplot\u001b[39;00m \u001b[38;5;28;01mas\u001b[39;00m \u001b[38;5;21;01mplt\u001b[39;00m\n\u001b[1;32m    105\u001b[0m \u001b[38;5;28;01mexcept\u001b[39;00m \u001b[38;5;167;01mImportError\u001b[39;00m:\n\u001b[0;32m--> 106\u001b[0m     \u001b[38;5;28;01mraise\u001b[39;00m \u001b[38;5;167;01mImportError\u001b[39;00m(\u001b[38;5;124m\"\u001b[39m\u001b[38;5;124mMatplotlib required for draw()\u001b[39m\u001b[38;5;124m\"\u001b[39m)\n\u001b[1;32m    107\u001b[0m \u001b[38;5;28;01mexcept\u001b[39;00m \u001b[38;5;167;01mRuntimeError\u001b[39;00m:\n\u001b[1;32m    108\u001b[0m     \u001b[38;5;28mprint\u001b[39m(\u001b[38;5;124m\"\u001b[39m\u001b[38;5;124mMatplotlib unable to open display\u001b[39m\u001b[38;5;124m\"\u001b[39m)\n",
      "\u001b[0;31mImportError\u001b[0m: Matplotlib required for draw()"
     ]
    }
   ],
   "source": [
    "#If you have matplotlib installed, you can plot the circuit using NetworkX's built in tools, e.g.:\n",
    "nx.draw_kamada_kawai(scaffold.circuit)"
   ]
  },
  {
   "cell_type": "markdown",
   "metadata": {},
   "source": [
    "Keep in mind that, right now, the only thing that's important is the NetworkX Digraph `scaffold.circuit` and that it contains all the needed to build the network graph.\n",
    "\n",
    "You can always access this directly which helps immensly with debugging."
   ]
  },
  {
   "cell_type": "code",
   "execution_count": 8,
   "metadata": {},
   "outputs": [
    {
     "name": "stdout",
     "output_type": "stream",
     "text": [
      "[{'tag': 'Reference_Image-0', 'name': 'Reference_Image', 'brick': <fugu.bricks.input_bricks.Vector_Input object at 0x7fa70a8d2ac0>, 'layer': 'input', 'input_nodes': [(-2, 0)]}, {'tag': 'Dot_with_0-1', 'name': 'Dot_with_0', 'brick': <fugu.bricks.utility_bricks.Dot object at 0x7fa70c7afd30>, 'input_nodes': [(0, 0)]}, {'tag': 'Does_Match_0-2', 'name': 'Does_Match_0', 'brick': <fugu.bricks.stochastic_bricks.Threshold object at 0x7fa70baccac0>, 'input_nodes': [], 'layer': 'output'}, {'tag': 'Dot_with_1-3', 'name': 'Dot_with_1', 'brick': <fugu.bricks.utility_bricks.Dot object at 0x7fa70bacca30>, 'input_nodes': [(0, 0)]}, {'tag': 'Does_Match_1-4', 'name': 'Does_Match_1', 'brick': <fugu.bricks.stochastic_bricks.Threshold object at 0x7fa70bacca60>, 'input_nodes': [], 'layer': 'output'}, {'tag': 'Dot_with_2-5', 'name': 'Dot_with_2', 'brick': <fugu.bricks.utility_bricks.Dot object at 0x7fa70bacca90>, 'input_nodes': [(0, 0)]}, {'tag': 'Does_Match_2-6', 'name': 'Does_Match_2', 'brick': <fugu.bricks.stochastic_bricks.Threshold object at 0x7fa70bc04790>, 'input_nodes': [], 'layer': 'output'}, {'tag': 'Dot_with_3-7', 'name': 'Dot_with_3', 'brick': <fugu.bricks.utility_bricks.Dot object at 0x7fa70c7d6a00>, 'input_nodes': [(0, 0)]}, {'tag': 'Does_Match_3-8', 'name': 'Does_Match_3', 'brick': <fugu.bricks.stochastic_bricks.Threshold object at 0x7fa70c7d6790>, 'input_nodes': [], 'layer': 'output'}, {'tag': 'Dot_with_4-9', 'name': 'Dot_with_4', 'brick': <fugu.bricks.utility_bricks.Dot object at 0x7fa70c7d6730>, 'input_nodes': [(0, 0)]}, {'tag': 'Does_Match_4-10', 'name': 'Does_Match_4', 'brick': <fugu.bricks.stochastic_bricks.Threshold object at 0x7fa70c7d6700>, 'input_nodes': [], 'layer': 'output'}, {'tag': 'Dot_with_5-11', 'name': 'Dot_with_5', 'brick': <fugu.bricks.utility_bricks.Dot object at 0x7fa70c7d6b80>, 'input_nodes': [(0, 0)]}, {'tag': 'Does_Match_5-12', 'name': 'Does_Match_5', 'brick': <fugu.bricks.stochastic_bricks.Threshold object at 0x7fa70c7d6af0>, 'input_nodes': [], 'layer': 'output'}]\n"
     ]
    }
   ],
   "source": [
    "#To get node (brick) information\n",
    "print([scaffold.circuit.nodes[node] for node in scaffold.circuit.nodes])"
   ]
  },
  {
   "cell_type": "markdown",
   "metadata": {},
   "source": [
    "We're now ready to evaluate the functions and get an answer.\n",
    "\n",
    "`Scaffold.lay_bricks` performs all the necessary steps to ready a full graph of neurons (not just computational nodes) for a hardware platform or simulator.  After we build it, we see that the built network graph (i.e. `scaffold.graph`) is much a larger. (You can click left of the output cell to expand/collapse.)"
   ]
  },
  {
   "cell_type": "code",
   "execution_count": 9,
   "metadata": {},
   "outputs": [
    {
     "ename": "ValueError",
     "evalue": "Only one input is permitted.",
     "output_type": "error",
     "traceback": [
      "\u001b[0;31m---------------------------------------------------------------------------\u001b[0m",
      "\u001b[0;31mValueError\u001b[0m                                Traceback (most recent call last)",
      "Input \u001b[0;32mIn [9]\u001b[0m, in \u001b[0;36m<cell line: 1>\u001b[0;34m()\u001b[0m\n\u001b[0;32m----> 1\u001b[0m graph \u001b[38;5;241m=\u001b[39m \u001b[43mscaffold\u001b[49m\u001b[38;5;241;43m.\u001b[39;49m\u001b[43mlay_bricks\u001b[49m\u001b[43m(\u001b[49m\u001b[43m)\u001b[49m  \u001b[38;5;66;03m#The return here is not needed, but useful if you want to access the graph easily.  You can always use scaffold.graph instead (assuming it exists).\u001b[39;00m\n\u001b[1;32m      2\u001b[0m scaffold\u001b[38;5;241m.\u001b[39msummary()\n",
      "File \u001b[0;32m~/Documents/Research/Fugu/release/Fugu/fugu/scaffold/scaffold.py:329\u001b[0m, in \u001b[0;36mScaffold.lay_bricks\u001b[0;34m(self, verbose)\u001b[0m\n\u001b[1;32m    323\u001b[0m     input_lists\u001b[38;5;241m.\u001b[39mappend(\n\u001b[1;32m    324\u001b[0m         circuit_node[\u001b[38;5;124m'\u001b[39m\u001b[38;5;124moutput_lists\u001b[39m\u001b[38;5;124m'\u001b[39m][input_channel])\n\u001b[1;32m    325\u001b[0m     input_codings\u001b[38;5;241m.\u001b[39mappend(\n\u001b[1;32m    326\u001b[0m         circuit_node[\u001b[38;5;124m'\u001b[39m\u001b[38;5;124moutput_codings\u001b[39m\u001b[38;5;124m'\u001b[39m][input_channel])\n\u001b[1;32m    328\u001b[0m (built_graph, metadata, control_nodes, output_lists,\n\u001b[0;32m--> 329\u001b[0m  output_codings) \u001b[38;5;241m=\u001b[39m \u001b[38;5;28;43mself\u001b[39;49m\u001b[38;5;241;43m.\u001b[39;49m\u001b[43mcircuit\u001b[49m\u001b[38;5;241;43m.\u001b[39;49m\u001b[43mnodes\u001b[49m\u001b[43m[\u001b[49m\u001b[43mnode\u001b[49m\u001b[43m]\u001b[49m\u001b[43m[\u001b[49m\u001b[38;5;124;43m'\u001b[39;49m\u001b[38;5;124;43mbrick\u001b[39;49m\u001b[38;5;124;43m'\u001b[39;49m\u001b[43m]\u001b[49m\u001b[38;5;241;43m.\u001b[39;49m\u001b[43mbuild\u001b[49m\u001b[43m(\u001b[49m\n\u001b[1;32m    330\u001b[0m \u001b[43m     \u001b[49m\u001b[43mbuilt_graph\u001b[49m\u001b[43m,\u001b[49m\n\u001b[1;32m    331\u001b[0m \u001b[43m     \u001b[49m\u001b[43mmetadata\u001b[49m\u001b[43m,\u001b[49m\n\u001b[1;32m    332\u001b[0m \u001b[43m     \u001b[49m\u001b[43mcontrol_nodes\u001b[49m\u001b[43m,\u001b[49m\n\u001b[1;32m    333\u001b[0m \u001b[43m     \u001b[49m\u001b[43minput_lists\u001b[49m\u001b[43m,\u001b[49m\n\u001b[1;32m    334\u001b[0m \u001b[43m     \u001b[49m\u001b[43minput_codings\u001b[49m\u001b[43m,\u001b[49m\n\u001b[1;32m    335\u001b[0m \u001b[43m \u001b[49m\u001b[43m)\u001b[49m\n\u001b[1;32m    336\u001b[0m \u001b[38;5;28mself\u001b[39m\u001b[38;5;241m.\u001b[39m_assign_brick_tags(built_graph,\n\u001b[1;32m    337\u001b[0m                         \u001b[38;5;28mself\u001b[39m\u001b[38;5;241m.\u001b[39mcircuit\u001b[38;5;241m.\u001b[39mnodes[node][\u001b[38;5;124m'\u001b[39m\u001b[38;5;124mtag\u001b[39m\u001b[38;5;124m'\u001b[39m])\n\u001b[1;32m    338\u001b[0m \u001b[38;5;28mself\u001b[39m\u001b[38;5;241m.\u001b[39mcircuit\u001b[38;5;241m.\u001b[39mnodes[node][\u001b[38;5;124m'\u001b[39m\u001b[38;5;124mmetadata\u001b[39m\u001b[38;5;124m'\u001b[39m] \u001b[38;5;241m=\u001b[39m metadata\n",
      "File \u001b[0;32m~/Documents/Research/Fugu/release/Fugu/fugu/bricks/stochastic_bricks.py:171\u001b[0m, in \u001b[0;36mThreshold.build\u001b[0;34m(self, graph, metadata, control_nodes, input_lists, input_codings)\u001b[0m\n\u001b[1;32m    149\u001b[0m \u001b[38;5;124;03m\"\"\"\u001b[39;00m\n\u001b[1;32m    150\u001b[0m \u001b[38;5;124;03mBuild Threshold brick.\u001b[39;00m\n\u001b[1;32m    151\u001b[0m \n\u001b[0;32m   (...)\u001b[0m\n\u001b[1;32m    167\u001b[0m \u001b[38;5;124;03m    + list of coding formats of output\u001b[39;00m\n\u001b[1;32m    168\u001b[0m \u001b[38;5;124;03m\"\"\"\u001b[39;00m\n\u001b[1;32m    170\u001b[0m \u001b[38;5;28;01mif\u001b[39;00m \u001b[38;5;28mlen\u001b[39m(input_codings) \u001b[38;5;241m!=\u001b[39m \u001b[38;5;241m1\u001b[39m:\n\u001b[0;32m--> 171\u001b[0m     \u001b[38;5;28;01mraise\u001b[39;00m \u001b[38;5;167;01mValueError\u001b[39;00m(\u001b[38;5;124m\"\u001b[39m\u001b[38;5;124mOnly one input is permitted.\u001b[39m\u001b[38;5;124m\"\u001b[39m)\n\u001b[1;32m    172\u001b[0m \u001b[38;5;28;01mif\u001b[39;00m input_codings[\u001b[38;5;241m0\u001b[39m] \u001b[38;5;129;01mnot\u001b[39;00m \u001b[38;5;129;01min\u001b[39;00m \u001b[38;5;28mself\u001b[39m\u001b[38;5;241m.\u001b[39msupported_codings:\n\u001b[1;32m    173\u001b[0m     \u001b[38;5;28;01mraise\u001b[39;00m \u001b[38;5;167;01mValueError\u001b[39;00m(\n\u001b[1;32m    174\u001b[0m         \u001b[38;5;124m\"\u001b[39m\u001b[38;5;124mInput coding not supported. Expected: \u001b[39m\u001b[38;5;132;01m{}\u001b[39;00m\u001b[38;5;124m ,Found: \u001b[39m\u001b[38;5;132;01m{}\u001b[39;00m\u001b[38;5;124m\"\u001b[39m\u001b[38;5;241m.\u001b[39mformat(\n\u001b[1;32m    175\u001b[0m             \u001b[38;5;28mself\u001b[39m\u001b[38;5;241m.\u001b[39msupported_codings,\n\u001b[1;32m    176\u001b[0m             input_codings[\u001b[38;5;241m0\u001b[39m],\n\u001b[1;32m    177\u001b[0m         ))\n",
      "\u001b[0;31mValueError\u001b[0m: Only one input is permitted."
     ]
    }
   ],
   "source": [
    "graph = scaffold.lay_bricks()  #The return here is not needed, but useful if you want to access the graph easily.  You can always use scaffold.graph instead (assuming it exists).\n",
    "scaffold.summary()"
   ]
  },
  {
   "cell_type": "markdown",
   "metadata": {},
   "source": [
    "A little description of what is going on in the 'list of neurons':  'threshold', 'decay', and 'p' are all neuron parameters used by the the evaluation platform (e.g. the simulator).  'index' is a tuple describing the local index of that neuron relative to its encoding scheme.  So, for example, if you have a two-dimensional, three-bit binary encoding, your shape might be (3,2) and so an index of (1,2) represents the 1st bit (counting from the 0th bit) of the 2nd number.  \n",
    "\n",
    "We can now evaluate the computation.  Right now, we only support the ds simulator. It should be in the git repot, if not just copy ds.py into your working directory. "
   ]
  },
  {
   "cell_type": "code",
   "execution_count": 11,
   "metadata": {},
   "outputs": [],
   "source": [
    "result = scaffold.evaluate(backend='ds')"
   ]
  },
  {
   "cell_type": "markdown",
   "metadata": {},
   "source": [
    "Now, if we print the result, it'll probably be a little disappointing:"
   ]
  },
  {
   "cell_type": "code",
   "execution_count": 12,
   "metadata": {},
   "outputs": [
    {
     "name": "stdout",
     "output_type": "stream",
     "text": [
      "   time  neuron_number\n",
      "0   1.0         2511.0\n"
     ]
    }
   ],
   "source": [
    "print(result)"
   ]
  },
  {
   "cell_type": "markdown",
   "metadata": {},
   "source": [
    "All this says is that in timestep 1, neuron 2511 spiked. No other neurons spiked...\n",
    "\n",
    "We need to add helper functions to decode to spike values.  Since there's an associated output coding for all outputs, this shouldn't be too hard.  It's just low on the priorities list since, for now, everyone using Fugu can read a spike raster.\n",
    "\n",
    "The following code will tell us what neuron spiked:"
   ]
  },
  {
   "cell_type": "code",
   "execution_count": 13,
   "metadata": {},
   "outputs": [
    {
     "data": {
      "text/plain": [
       "\"Does_Match_4:{'threshold': 1000, 'decay': 0.0, 'p': 1.0, 'brick': 'Does_Match_4', 'neuron_number': 2511, 'record': ['spikes']}\""
      ]
     },
     "execution_count": 13,
     "metadata": {},
     "output_type": "execute_result"
    }
   ],
   "source": [
    "[node + str(':') +  str(scaffold.graph.nodes[node]) for node in scaffold.graph.nodes][2511]"
   ]
  },
  {
   "cell_type": "markdown",
   "metadata": {},
   "source": [
    "So, it turns out that `collected_images[4]` is the taco shop!  Great!\n",
    "\n",
    "But wait!  Sarah only has 15 minutes before heading to work...\n",
    "\n",
    "So, the question is can she make it to the taco shop in time? We'll need another brick and another look at that map."
   ]
  },
  {
   "cell_type": "code",
   "execution_count": 14,
   "metadata": {},
   "outputs": [],
   "source": [
    "from fugu.bricks import Shortest_Path, Concatenate"
   ]
  },
  {
   "cell_type": "markdown",
   "metadata": {},
   "source": [
    "Here's the map with node numbers assigned:\n",
    "\n",
    "![](OverheadMap2.png)\n",
    "\n",
    "\n",
    "We could just look at all the ways to get to the taco shop, but on a large graph like this, it can be hard to find a short path (especially with all the traffic near town hall).\n",
    "\n",
    "And, being a national lab employee, Sarah doesn't just want a short path; she wants the shortest path! Fugu to the rescue..."
   ]
  },
  {
   "cell_type": "code",
   "execution_count": 15,
   "metadata": {},
   "outputs": [],
   "source": [
    "#Helperfunction to constuct the map.\n",
    "#Sarah already has a copy since she gets tacos often.\n",
    "def generate_town_map():\n",
    "    town_map = nx.Graph()\n",
    "    town_map.add_node(0, label='Home')\n",
    "    town_map.add_edge(0,1,weight=2)\n",
    "    town_map.add_edge(0,7,weight=7)\n",
    "    town_map.add_edge(1,2,weight=1)\n",
    "    town_map.add_edge(1,6,weight=15)\n",
    "    town_map.add_edge(2,3,weight=6)\n",
    "    town_map.add_edge(2,5,weight=18)\n",
    "    town_map.add_edge(3,4,weight=8)\n",
    "    town_map.add_edge(4,5,weight=1)\n",
    "    town_map.add_edge(5,6,weight=4)\n",
    "    town_map.add_edge(6,7,weight=2)\n",
    "    return town_map"
   ]
  },
  {
   "cell_type": "code",
   "execution_count": 16,
   "metadata": {},
   "outputs": [],
   "source": [
    "town_map = generate_town_map()"
   ]
  },
  {
   "cell_type": "markdown",
   "metadata": {},
   "source": [
    "We could create a scaffold to determine if Sarah can make it to lunch using the information we got from our previous scaffold.\n",
    "\n",
    "But, fugu is designed to be compositionable, so we might as well make it one large graph.\n",
    "\n",
    "The only tricky bit here is that we need to use a `Concatenate` brick because `Shortest_Path_Length` is looking for a single input (rather than a distinct input for each node)."
   ]
  },
  {
   "cell_type": "code",
   "execution_count": 18,
   "metadata": {},
   "outputs": [],
   "source": [
    "threshold_value = 1000  #Number of positive pixels that have to agree for us to consider it a 'match'\n",
    "new_scaffold = Scaffold()\n",
    "new_scaffold.add_brick(Vector_Input(np.array(taco_img), coding='Raster', name='Reference_Image'), 'input')\n",
    "for image_key in collected_images:\n",
    "    test_image = collected_images[image_key].flatten() #We squeeze the 2-d image into a 1-d vector\n",
    "    #scaffold.add_brick(Spike_Input(np.array(test_image),coding='Raster', name='Test_Image-' + str(image_key)),'input')\n",
    "    new_scaffold.add_brick(Dot(test_image, name='Dot_with_' + str(image_key)), (0,0))  #Connects this Dot brick to node 0, channel 0 (The input)\n",
    "    new_scaffold.add_brick(Threshold(threshold_value, name='Does_Match_' + str(image_key)))  #We no longer want outputs from these bricks\n",
    "new_scaffold.add_brick(Concatenate(), ['Does_Match_'+str(image_key) for image_key in collected_images])\n",
    "new_scaffold.add_brick(Shortest_Path(town_map, 0, name='Shortest_Path')) #Shortest_Path_Length requires a target_graph and a target_node\n",
    "new_scaffold.add_brick(Threshold(15, name='Final_Output'),output=True)  #We want to know this final check"
   ]
  },
  {
   "cell_type": "code",
   "execution_count": 19,
   "metadata": {},
   "outputs": [],
   "source": [
    "new_scaffold.lay_bricks()\n",
    "result = new_scaffold.evaluate(max_runtime=100,backend='ds',record_all=True) #We'll record all the neurons this time for some checking"
   ]
  },
  {
   "cell_type": "code",
   "execution_count": 20,
   "metadata": {},
   "outputs": [],
   "source": [
    "#Let's decode the result\n",
    "#Get the output brick index\n",
    "output_brick_index = [new_scaffold.circuit.nodes[node]['name'] for node in new_scaffold.circuit.nodes].index('Final_Output')\n",
    "\n",
    "#Get the complete node from the output brick\n",
    "complete = new_scaffold.circuit.nodes[output_brick_index]['control_nodes'][0]['complete']\n",
    "\n",
    "#Get the output neuron from the output brick\n",
    "output = new_scaffold.circuit.nodes[output_brick_index]['output_lists'][0][0]"
   ]
  },
  {
   "cell_type": "code",
   "execution_count": 21,
   "metadata": {},
   "outputs": [
    {
     "name": "stdout",
     "output_type": "stream",
     "text": [
      "No, Sarah made it in time.\n"
     ]
    }
   ],
   "source": [
    "#Search to see if output neuron ever spiked\n",
    "\n",
    "def check_for_spikes(neuron_name):\n",
    "    #Get the names for all the neurons\n",
    "    #Then find the output neuron\n",
    "    output_neuron_index = [node for node in new_scaffold.graph.nodes].index(neuron_name)\n",
    "    found_a_spike = False\n",
    "    when = None\n",
    "    for index, row in result.iterrows():\n",
    "        timestep = row['time']\n",
    "        neuron = row['neuron_number']\n",
    "        if output_neuron_index == neuron:\n",
    "            found_a_spike=True\n",
    "            when = timestep\n",
    "    return found_a_spike, when\n",
    "\n",
    "(found_spike, when) = check_for_spikes(output)\n",
    "if found_spike:\n",
    "    print(\"Yes, Neuron \" + str(output) + \" spiked at time\" + str(when) + \".\")\n",
    "else:\n",
    "    print(\"No, Sarah made it in time.\")"
   ]
  },
  {
   "cell_type": "markdown",
   "metadata": {},
   "source": [
    "Wait. What if the algorithm just didn't have time to finish.  Can we check that the final brick did indeed finish?"
   ]
  },
  {
   "cell_type": "code",
   "execution_count": 23,
   "metadata": {},
   "outputs": [
    {
     "name": "stdout",
     "output_type": "stream",
     "text": [
      "Yes, Neuron Final_Output_complete spiked at time 18.0.\n"
     ]
    }
   ],
   "source": [
    "(found_spike, when) = check_for_spikes(complete)\n",
    "if found_spike:\n",
    "    print(\"Yes, Neuron \" + str(complete) + \" spiked at time \" + str(when) + \".\")\n",
    "else:\n",
    "    print(\"No, we never finished the algorithm.\")"
   ]
  },
  {
   "cell_type": "code",
   "execution_count": 24,
   "metadata": {},
   "outputs": [],
   "source": [
    "def create_images():\n",
    "    collected_images = dict()\n",
    "    filenames = ['coffee.png', 'home.png', 'pizza.png', 'store.png', 'taco.png', 'townhall.png']\n",
    "    for  i, filename in enumerate(filenames):\n",
    "        taco_img = ndimage.imread(filename,mode='P')\n",
    "        taco_img = -1*(np.round(sp.misc.imresize(taco_img,(50,50))/255).astype('int')-1)\n",
    "        collected_images[i] = taco_img\n",
    "    np.save('imgs.npy', collected_images)\n",
    "def print_img(taco_img):\n",
    "    taco_img = np.array(taco_img)\n",
    "    for line in range(taco_img.shape[0]):\n",
    "        print('[',end='')\n",
    "        for pixel in range(taco_img.shape[1]):\n",
    "            print(taco_img[line,pixel],end=',')\n",
    "        print('],')"
   ]
  },
  {
   "cell_type": "code",
   "execution_count": null,
   "metadata": {},
   "outputs": [],
   "source": []
  }
 ],
 "metadata": {
  "kernelspec": {
   "display_name": "Python 3 (ipykernel)",
   "language": "python",
   "name": "python3"
  },
  "language_info": {
   "codemirror_mode": {
    "name": "ipython",
    "version": 3
   },
   "file_extension": ".py",
   "mimetype": "text/x-python",
   "name": "python",
   "nbconvert_exporter": "python",
   "pygments_lexer": "ipython3",
   "version": "3.9.7"
  }
 },
 "nbformat": 4,
 "nbformat_minor": 4
}
