{
 "cells": [
  {
   "cell_type": "code",
   "execution_count": 1,
   "metadata": {},
   "outputs": [],
   "source": [
    "import networkx as nx\n",
    "import numpy as np\n",
    "import fugu\n",
    "from fugu import Scaffold, Brick, Spike_Input, Threshold"
   ]
  },
  {
   "cell_type": "markdown",
   "metadata": {},
   "source": [
    "# Shortest Path Example\n",
    "\n",
    "This example is not finished yet.  Right now, all we can do is find the length of the shortest path between two nodes."
   ]
  },
  {
   "cell_type": "code",
   "execution_count": 2,
   "metadata": {},
   "outputs": [],
   "source": [
    "#Helper function to make a random graph for testing\n",
    "def create_random_graph(num_nodes, max_weight):\n",
    "    graph = nx.Graph()\n",
    "    nodes = list(range(0,num_nodes))\n",
    "    for node in range(0, num_nodes):\n",
    "        graph.add_node(node)\n",
    "    for node in range(0, num_nodes):\n",
    "        other_nodes = nodes[0:node]+nodes[node+1:num_nodes]\n",
    "        neighbors = np.random.choice(other_nodes, np.random.randint(1,len(other_nodes)) )\n",
    "        for neighbor in neighbors:\n",
    "            graph.add_edge(node, neighbor, weight=np.random.randint(1,max_weight+1))\n",
    "    return graph\n"
   ]
  },
  {
   "cell_type": "code",
   "execution_count": 3,
   "metadata": {},
   "outputs": [],
   "source": [
    "class Shortest_Path_Length(Brick):\n",
    "    def __init__(self, target_graph, target_node, name=None, output_coding = 'temporal-L'):\n",
    "        super(Brick, self).__init__()\n",
    "        #The brick hasn't been built yet.\n",
    "        self.is_built = False\n",
    "        #We just store the name passed at construction.\n",
    "        self.name = name\n",
    "        #For this example, we'll let any input coding work even though the answer might not make sense.\n",
    "        self.supported_codings = fugu.input_coding_types\n",
    "        #Right now, we'll convert node labels to integers in the order of\n",
    "        #graph.nodes() However, in the fugure, this should be improved to be \n",
    "        #more flexible.\n",
    "        for i,node in enumerate(target_graph.nodes()):\n",
    "            if node is target_node:\n",
    "                self.target_node = i\n",
    "        self.target_graph = nx.relabel.convert_node_labels_to_integers(target_graph)\n",
    "        self.output_codings = [output_coding]\n",
    "        self.dimensionality = {'D':None}\n",
    "    def build(self,\n",
    "             graph,\n",
    "             dimensionality,\n",
    "             control_nodes,\n",
    "             input_lists,\n",
    "             input_codings):\n",
    "        \n",
    "        if len(input_lists) is not 1:\n",
    "            raise ValueError('Incorrect Number of Inputs.')\n",
    "        for input_coding in input_codings:\n",
    "            if input_coding not in self.supported_codings:\n",
    "                raise ValueError(\"Unsupported Input Coding. Found: \" + input_coding + \". Allowed: \" + str(self.supported_codings))\n",
    "        \n",
    "        #All bricks should provide a neuron that spikes when the brick has completed processing.\n",
    "        #We just put in a basic relay neuron that will spike when it recieves any spike from its\n",
    "        #single input, which is the complete_node from the first input.\n",
    "        #All nodes we add to the graph should have basic neuron parameters (threshold, decay)\n",
    "        #Reasonable defaults will be filled-in, but these defaults may depend on the execution platform.\n",
    "        #Additionally, nodes should have a field called 'index' which is a local index used to reference the \n",
    "        #position of the node.  This can be used by downstream bricks.  A simple example might be\n",
    "        #a 3-bit binary representation will add 3 nodes to the graph with indices 0,1,2\n",
    "        #We do have to do some work to establish best practices here.\n",
    "        #new_complete_node_name = self.name + '_complete'\n",
    "        #graph.add_node(new_complete_node_name,\n",
    "        #              index = -1,\n",
    "        #              threshold = 0.0,\n",
    "        #              decay =0.0,\n",
    "        #              p=1.0,\n",
    "        #              potential=0.0)\n",
    "        #complete_node = [new_complete_node_name]\n",
    "        new_begin_node_name = self.name+'_begin'\n",
    "        graph.add_node(new_begin_node_name,\n",
    "                      threshold = 0.5,\n",
    "                      decay = 0.0,\n",
    "                      potential=0.0)\n",
    "        graph.add_edge(control_nodes[0]['complete'],\n",
    "                      self.name+'_begin',\n",
    "                      weight = 1.0,\n",
    "                      delay = 1)\n",
    "        \n",
    "        \n",
    "        for node in self.target_graph.nodes:\n",
    "            graph.add_node(self.name+str(node),\n",
    "                           index = (node,),\n",
    "                           threshold=1.0, \n",
    "                           decay=0.0, \n",
    "                           potential=0.0)\n",
    "            graph.add_edge(self.name+str(node), self.name+str(node), weight=-1000, delay=1)\n",
    "            if node==self.target_node:\n",
    "                complete_node_list = [self.name+str(node)]\n",
    "                #graph.add_edge(self.name+str(node),\n",
    "                #       new_complete_node_name,\n",
    "                #       weight=1.0,delay=1)\n",
    "\n",
    "        for node in self.target_graph.nodes:\n",
    "            neighbors = list(self.target_graph.neighbors(node))\n",
    "            for neighbor in neighbors:\n",
    "                delay = self.target_graph.edges[node,neighbor]['weight']\n",
    "                graph.add_edge(self.name+str(node), self.name+str(neighbor), weight=1.5, delay=delay)\n",
    "                #graph.add_edge(neighbor, node, weight=1.5, delay=delay)\n",
    "\n",
    "        \n",
    "        for input_neuron in input_lists[0]:\n",
    "            index = graph.nodes[input_neuron]['index']\n",
    "            if type(index) is tuple:\n",
    "                index = index[0]\n",
    "            if type(index) is not int:\n",
    "                raise TypeError(\"Neuron index should be Tuple or Int.\")\n",
    "            graph.add_edge(input_neuron, \n",
    "                          self.name+str(index),\n",
    "                         weight = 2.0,\n",
    "                         delay = 1)\n",
    "\n",
    "        self.is_built=True\n",
    "        \n",
    "        #Remember, bricks can have more than one output, so we need a list of list of output neurons\n",
    "        output_lists = [[self.name+str(self.target_node)]]\n",
    "        \n",
    "        return (graph,\n",
    "               self.dimensionality,\n",
    "                [{'complete':complete_node_list[0], 'begin':new_begin_node_name}],\n",
    "                output_lists,\n",
    "                self.output_codings\n",
    "               )"
   ]
  },
  {
   "cell_type": "code",
   "execution_count": 10,
   "metadata": {},
   "outputs": [],
   "source": [
    "g = create_random_graph(5,1)"
   ]
  },
  {
   "cell_type": "code",
   "execution_count": 11,
   "metadata": {},
   "outputs": [],
   "source": [
    "scaffold = Scaffold()\n",
    "scaffold.add_brick(Spike_Input(np.array([0,1,0,0,0]), coding='Raster', name='Input0'), 'input' )\n",
    "scaffold.add_brick(Shortest_Path_Length(g,0))\n",
    "scaffold.add_brick(Threshold(1),output=True)\n",
    "scaffold.lay_bricks()\n",
    "result = scaffold.evaluate(backend='ds',record_all=True)"
   ]
  },
  {
   "cell_type": "code",
   "execution_count": 12,
   "metadata": {},
   "outputs": [
    {
     "data": {
      "text/plain": [
       "{0: [1, 5],\n",
       " 1: [6, 8],\n",
       " 2: [7, 9, 11, 12, 13],\n",
       " 3: [10],\n",
       " 4: [],\n",
       " 5: [],\n",
       " 6: [],\n",
       " 7: [],\n",
       " 8: [],\n",
       " 9: []}"
      ]
     },
     "execution_count": 12,
     "metadata": {},
     "output_type": "execute_result"
    }
   ],
   "source": [
    "result"
   ]
  },
  {
   "cell_type": "code",
   "execution_count": 7,
   "metadata": {},
   "outputs": [
    {
     "data": {
      "text/plain": [
       "EdgeView([(0, 2), (0, 1), (0, 3), (0, 4), (1, 3), (1, 4), (2, 3), (3, 4)])"
      ]
     },
     "execution_count": 7,
     "metadata": {},
     "output_type": "execute_result"
    }
   ],
   "source": [
    "g.edges"
   ]
  },
  {
   "cell_type": "code",
   "execution_count": 16,
   "metadata": {},
   "outputs": [],
   "source": [
    "assert(type(3) is int)"
   ]
  },
  {
   "cell_type": "code",
   "execution_count": 13,
   "metadata": {},
   "outputs": [
    {
     "name": "stdout",
     "output_type": "stream",
     "text": [
      "0:{'index': (0,), 'threshold': 0.0, 'decay': 0.0, 'p': 1.0}\n",
      "1:{'index': (1,), 'threshold': 0.0, 'decay': 0.0, 'p': 1.0}\n",
      "2:{'index': (2,), 'threshold': 0.0, 'decay': 0.0, 'p': 1.0}\n",
      "3:{'index': (3,), 'threshold': 0.0, 'decay': 0.0, 'p': 1.0}\n",
      "4:{'index': (4,), 'threshold': 0.0, 'decay': 0.0, 'p': 1.0}\n",
      "5:{'index': -1, 'threshold': 0.0, 'decay': 0.0, 'p': 1.0, 'potential': 0.5}\n",
      "6:{'threshold': 0.5, 'decay': 0.0, 'potential': 0.0}\n",
      "7:{'index': (0,), 'threshold': 1.0, 'decay': 0.0, 'potential': 0.0}\n",
      "8:{'index': (1,), 'threshold': 1.0, 'decay': 0.0, 'potential': 0.0}\n",
      "9:{'index': (2,), 'threshold': 1.0, 'decay': 0.0, 'potential': 0.0}\n",
      "10:{'index': (3,), 'threshold': 1.0, 'decay': 0.0, 'potential': 0.0}\n",
      "11:{'index': (4,), 'threshold': 1.0, 'decay': 0.0, 'potential': 0.0}\n",
      "12:{'index': -1, 'threshold': -9.999999999998899e-05, 'decay': 1.0, 'p': 1.0}\n",
      "13:{'index': (0,), 'threshold': 1.0, 'decay': 0.0, 'p': 1.0, 'record': ['spikes']}\n"
     ]
    }
   ],
   "source": [
    "for i, node in enumerate(scaffold.graph.nodes):\n",
    "    print(str(i) + \":\" + str(scaffold.graph.nodes[node]))"
   ]
  },
  {
   "cell_type": "code",
   "execution_count": 8,
   "metadata": {},
   "outputs": [
    {
     "data": {
      "text/plain": [
       "{'name': \"<class '__main__.Shortest_Path_Length'>_0\",\n",
       " 'brick': <__main__.Shortest_Path_Length at 0xa2125ad30>,\n",
       " 'input_nodes': [(0, 0)],\n",
       " 'dimensionality': {'D': None},\n",
       " 'output_codings': ['temporal-L'],\n",
       " 'output_lists': [[\"<class '__main__.Shortest_Path_Length'>_00\"]],\n",
       " 'control_nodes': [{'complete': \"<class '__main__.Shortest_Path_Length'>_00\",\n",
       "   'begin': \"<class '__main__.Shortest_Path_Length'>_0_begin\"}]}"
      ]
     },
     "execution_count": 8,
     "metadata": {},
     "output_type": "execute_result"
    }
   ],
   "source": [
    "scaffold.circuit.nodes[1]"
   ]
  },
  {
   "cell_type": "code",
   "execution_count": 176,
   "metadata": {},
   "outputs": [
    {
     "name": "stdout",
     "output_type": "stream",
     "text": [
      "[-2, 0, 1, 2, 3]\n",
      "[-2, 0, 1, 2, 3]\n",
      "[-2, 0, 1, 2, 3]\n"
     ]
    }
   ],
   "source": [
    "a = [-2, 0, 1,2,3]\n",
    "\n",
    "for i in [i_n for i_n in a if i_n > 0]:\n",
    "    print(a)"
   ]
  },
  {
   "cell_type": "code",
   "execution_count": 6,
   "metadata": {},
   "outputs": [
    {
     "data": {
      "text/plain": [
       "'(2, 1)'"
      ]
     },
     "execution_count": 6,
     "metadata": {},
     "output_type": "execute_result"
    }
   ],
   "source": [
    "str((2,1))"
   ]
  },
  {
   "cell_type": "code",
   "execution_count": null,
   "metadata": {},
   "outputs": [],
   "source": []
  }
 ],
 "metadata": {
  "kernelspec": {
   "display_name": "Python 3",
   "language": "python",
   "name": "python3"
  },
  "language_info": {
   "codemirror_mode": {
    "name": "ipython",
    "version": 3
   },
   "file_extension": ".py",
   "mimetype": "text/x-python",
   "name": "python",
   "nbconvert_exporter": "python",
   "pygments_lexer": "ipython3",
   "version": "3.7.1"
  }
 },
 "nbformat": 4,
 "nbformat_minor": 2
}
