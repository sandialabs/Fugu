{
 "cells": [
  {
   "cell_type": "code",
   "execution_count": 25,
   "metadata": {},
   "outputs": [],
   "source": [
    "# FUGU code module\n",
    "import networkx as nx\n",
    "\n",
    "\n"
   ]
  },
  {
   "cell_type": "code",
   "execution_count": null,
   "metadata": {},
   "outputs": [],
   "source": [
    "class Circuit:\n",
    "    \"\"\"Prototype circuit class for Fugu - where we will build output Fugu networks\"\"\"\n",
    "    \n",
    "    \n",
    "    \n",
    "    def __init__(self):\n",
    "        circuit_abstract=nx.DiGraph()\n",
    "    \n",
    "    def add_brick(self, brick_func, *arg):\n",
    "        # Function to add brick to circuit\n",
    "        #\n",
    "        # brick_func will call procedure to generate the subcircuit\n",
    "        # * arg will be arguments to pass into brick_func, if appropriate\n",
    "        n_nodes=self.circuit_abstract.number_of_nodes()\n",
    "        self.circuit_abstract.add_node(n_nodes+1, )\n",
    "        self.circuit_abstract.add_edge()\n",
    "        "
   ]
  }
 ],
 "metadata": {
  "kernelspec": {
   "display_name": "Python 3",
   "language": "python",
   "name": "python3"
  },
  "language_info": {
   "codemirror_mode": {
    "name": "ipython",
    "version": 3
   },
   "file_extension": ".py",
   "mimetype": "text/x-python",
   "name": "python",
   "nbconvert_exporter": "python",
   "pygments_lexer": "ipython3",
   "version": "3.6.5"
  }
 },
 "nbformat": 4,
 "nbformat_minor": 2
}
