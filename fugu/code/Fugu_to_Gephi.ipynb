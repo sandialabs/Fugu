{
 "cells": [
  {
   "cell_type": "markdown",
   "metadata": {},
   "source": [
    "# Fugu Visualizations - Gephi"
   ]
  },
  {
   "cell_type": "markdown",
   "metadata": {},
   "source": [
    "## Gephi \n",
    "Download and installation instructions can be found at:\n",
    "- https://gephi.org/users/download/ \n",
    "- https://gephi.org/users/install/\n",
    "\n",
    "Note that a graphics card that is compatible with OpenGL 3D engine is required. Additionally, system needs to be equipped with Java 7 or 8 (Windows/Linux only, version for Mac has Java bundled in). \n",
    "## Viewing Fugu on Gephi\n",
    "1. Create .gexf file\n",
    "    - Can use generate_gexf in utils.py (needs graph, result, and scaffold as parameters)\n",
    "    - Example shown below\n",
    "2. Import file\n",
    "    - File > Open...\n",
    "3. Make graph dynamic\n",
    "    - Open Data Laboratory window\n",
    "    - Click on Merge Columns button (below Data Table)\n",
    "    - Search through 'Available columns' section and select spiked and move it over with the arrow buttons to 'Columns to merge' section.\n",
    "    - Select 'Create time interval' as merge strategy \n",
    "    - In the resulting popup, ensure that you enter in the correct max time to view spikes\n",
    "4. View dynamic attributes\n",
    "    - Go back to the Overview window\n",
    "    - Enable the timeline at the bottom of the window\n",
    "    - Select  the small gear button to the left of the timeline play button\n",
    "    - Select 'Set custom bounds...' button\n",
    "    - Set the interval to be a width of your choice. The updates will trigger when any part of the bar is over the time value.\n",
    "    - Go to 'Appearances'\n",
    "    - Make sure 'Nodes' is selected and select 'Partition'\n",
    "    - Select 'spiked' as the value to partition the appearance of the graph\n",
    "    - Press the button beside 'Apply' to toggle it as 'Auto Apply'\n",
    "    - Select 'Auto Apply' and then press play on the timeline\n",
    "5. Customize\n",
    "    - To further customize the graph, you can change the color, shape, and size of the nodes and edges. You can also update the layout in a way to make it easier to see, depending on the type of graph. Gephi supports multiple plugins that allow you to have many different layout options. Some useful plugins to install are:\n",
    "        - Column Calculator\n",
    "        - Circular Layout\n",
    "        - GeoLayout\n",
    "        - Scripting Plugin\n",
    "        - MultimodeNetworksTransformationPlugin\n",
    "        "
   ]
  },
  {
   "cell_type": "code",
   "execution_count": 1,
   "metadata": {},
   "outputs": [],
   "source": [
    "import networkx as nx\n",
    "import numpy as np\n",
    "import scipy as sp\n",
    "import pickle\n",
    "from scipy import ndimage\n",
    "import fugu\n",
    "from fugu import Scaffold, Vector_Input, Shortest_Path_Length, PRN\n",
    "from utils import fill_results_from_graph, generate_gexf\n",
    "from fugu_vis import get_spiked_info, results_dict, set_position"
   ]
  },
  {
   "cell_type": "code",
   "execution_count": 2,
   "metadata": {},
   "outputs": [],
   "source": [
    "scaffold = Scaffold()\n",
    "scaffold.add_brick(Vector_Input(np.array([0,0,0,1]),coding='Raster',name='input'),'input')\n",
    "scaffold.add_brick(PRN(shape=(100,)),output=True)\n",
    "graph = scaffold.lay_bricks()\n",
    "result = scaffold.evaluate(backend='ds',max_runtime=100,record_all=True)"
   ]
  },
  {
   "cell_type": "code",
   "execution_count": 3,
   "metadata": {},
   "outputs": [
    {
     "name": "stdout",
     "output_type": "stream",
     "text": [
      "Maximum spiked time:  100\n"
     ]
    }
   ],
   "source": [
    "generate_gexf(graph, result, scaffold, filename='fugu.gexf')"
   ]
  }
 ],
 "metadata": {
  "kernelspec": {
   "display_name": "Python 3",
   "language": "python",
   "name": "python3"
  },
  "language_info": {
   "codemirror_mode": {
    "name": "ipython",
    "version": 3
   },
   "file_extension": ".py",
   "mimetype": "text/x-python",
   "name": "python",
   "nbconvert_exporter": "python",
   "pygments_lexer": "ipython3",
   "version": "3.6.7"
  }
 },
 "nbformat": 4,
 "nbformat_minor": 2
}
